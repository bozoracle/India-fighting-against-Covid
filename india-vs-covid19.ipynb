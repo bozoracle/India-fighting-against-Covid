{
 "cells": [
  {
   "cell_type": "markdown",
   "metadata": {},
   "source": [
    "# Why is India struggling to fight against COVID 19? #"
   ]
  },
  {
   "cell_type": "code",
   "execution_count": 1,
   "metadata": {
    "_kg_hide-input": true,
    "_kg_hide-output": true,
    "execution": {
     "iopub.execute_input": "2020-09-10T13:05:49.260556Z",
     "iopub.status.busy": "2020-09-10T13:05:49.259857Z",
     "iopub.status.idle": "2020-09-10T13:06:00.068069Z",
     "shell.execute_reply": "2020-09-10T13:06:00.069447Z"
    },
    "papermill": {
     "duration": 10.825367,
     "end_time": "2020-09-10T13:06:00.069777",
     "exception": false,
     "start_time": "2020-09-10T13:05:49.244410",
     "status": "completed"
    },
    "tags": []
   },
   "outputs": [
    {
     "name": "stdout",
     "output_type": "stream",
     "text": [
      "Requirement already satisfied: pycountry_convert in c:\\users\\nehaa\\anaconda3\\lib\\site-packages (0.7.2)\n",
      "Requirement already satisfied: pytest-cov>=2.5.1 in c:\\users\\nehaa\\anaconda3\\lib\\site-packages (from pycountry_convert) (2.10.1)\n",
      "Requirement already satisfied: pprintpp>=0.3.0 in c:\\users\\nehaa\\anaconda3\\lib\\site-packages (from pycountry_convert) (0.4.0)\n",
      "Requirement already satisfied: pytest-mock>=1.6.3 in c:\\users\\nehaa\\anaconda3\\lib\\site-packages (from pycountry_convert) (3.3.1)\n",
      "Requirement already satisfied: repoze.lru>=0.7 in c:\\users\\nehaa\\anaconda3\\lib\\site-packages (from pycountry_convert) (0.7)\n",
      "Requirement already satisfied: wheel>=0.30.0 in c:\\users\\nehaa\\anaconda3\\lib\\site-packages (from pycountry_convert) (0.33.6)\n",
      "Requirement already satisfied: pycountry>=16.11.27.1 in c:\\users\\nehaa\\anaconda3\\lib\\site-packages (from pycountry_convert) (20.7.3)\n",
      "Requirement already satisfied: pytest>=3.4.0 in c:\\users\\nehaa\\anaconda3\\lib\\site-packages (from pycountry_convert) (5.2.1)\n",
      "Requirement already satisfied: coverage>=4.4 in c:\\users\\nehaa\\anaconda3\\lib\\site-packages (from pytest-cov>=2.5.1->pycountry_convert) (5.3)\n",
      "Requirement already satisfied: py>=1.5.0 in c:\\users\\nehaa\\anaconda3\\lib\\site-packages (from pytest>=3.4.0->pycountry_convert) (1.8.0)\n",
      "Requirement already satisfied: packaging in c:\\users\\nehaa\\anaconda3\\lib\\site-packages (from pytest>=3.4.0->pycountry_convert) (19.2)\n",
      "Requirement already satisfied: attrs>=17.4.0 in c:\\users\\nehaa\\anaconda3\\lib\\site-packages (from pytest>=3.4.0->pycountry_convert) (19.2.0)\n",
      "Requirement already satisfied: more-itertools>=4.0.0 in c:\\users\\nehaa\\anaconda3\\lib\\site-packages (from pytest>=3.4.0->pycountry_convert) (7.2.0)\n",
      "Requirement already satisfied: atomicwrites>=1.0 in c:\\users\\nehaa\\anaconda3\\lib\\site-packages (from pytest>=3.4.0->pycountry_convert) (1.3.0)\n",
      "Requirement already satisfied: pluggy<1.0,>=0.12 in c:\\users\\nehaa\\anaconda3\\lib\\site-packages (from pytest>=3.4.0->pycountry_convert) (0.13.0)\n",
      "Requirement already satisfied: wcwidth in c:\\users\\nehaa\\anaconda3\\lib\\site-packages (from pytest>=3.4.0->pycountry_convert) (0.1.7)\n",
      "Requirement already satisfied: importlib-metadata>=0.12 in c:\\users\\nehaa\\anaconda3\\lib\\site-packages (from pytest>=3.4.0->pycountry_convert) (0.23)\n",
      "Requirement already satisfied: colorama in c:\\users\\nehaa\\anaconda3\\lib\\site-packages (from pytest>=3.4.0->pycountry_convert) (0.4.1)\n",
      "Requirement already satisfied: pyparsing>=2.0.2 in c:\\users\\nehaa\\anaconda3\\lib\\site-packages (from packaging->pytest>=3.4.0->pycountry_convert) (2.4.2)\n",
      "Requirement already satisfied: six in c:\\users\\nehaa\\anaconda3\\lib\\site-packages (from packaging->pytest>=3.4.0->pycountry_convert) (1.12.0)\n",
      "Requirement already satisfied: zipp>=0.5 in c:\\users\\nehaa\\anaconda3\\lib\\site-packages (from importlib-metadata>=0.12->pytest>=3.4.0->pycountry_convert) (0.6.0)\n"
     ]
    }
   ],
   "source": [
    "!pip install pycountry_convert"
   ]
  },
  {
   "cell_type": "code",
   "execution_count": 2,
   "metadata": {
    "_kg_hide-input": true,
    "_kg_hide-output": true,
    "execution": {
     "iopub.execute_input": "2020-09-10T13:06:00.115536Z",
     "iopub.status.busy": "2020-09-10T13:06:00.114502Z",
     "iopub.status.idle": "2020-09-10T13:06:10.012973Z",
     "shell.execute_reply": "2020-09-10T13:06:10.012043Z"
    },
    "papermill": {
     "duration": 9.926693,
     "end_time": "2020-09-10T13:06:10.013169",
     "exception": false,
     "start_time": "2020-09-10T13:06:00.086476",
     "status": "completed"
    },
    "tags": []
   },
   "outputs": [
    {
     "name": "stdout",
     "output_type": "stream",
     "text": [
      "Requirement already satisfied: GoogleMaps in c:\\users\\nehaa\\anaconda3\\lib\\site-packages (4.4.2)\n",
      "Requirement already satisfied: requests<3.0,>=2.20.0 in c:\\users\\nehaa\\anaconda3\\lib\\site-packages (from GoogleMaps) (2.22.0)\n",
      "Requirement already satisfied: idna<2.9,>=2.5 in c:\\users\\nehaa\\anaconda3\\lib\\site-packages (from requests<3.0,>=2.20.0->GoogleMaps) (2.8)\n",
      "Requirement already satisfied: urllib3!=1.25.0,!=1.25.1,<1.26,>=1.21.1 in c:\\users\\nehaa\\anaconda3\\lib\\site-packages (from requests<3.0,>=2.20.0->GoogleMaps) (1.24.2)\n",
      "Requirement already satisfied: chardet<3.1.0,>=3.0.2 in c:\\users\\nehaa\\anaconda3\\lib\\site-packages (from requests<3.0,>=2.20.0->GoogleMaps) (3.0.4)\n",
      "Requirement already satisfied: certifi>=2017.4.17 in c:\\users\\nehaa\\anaconda3\\lib\\site-packages (from requests<3.0,>=2.20.0->GoogleMaps) (2019.9.11)\n"
     ]
    }
   ],
   "source": [
    "!pip install GoogleMaps"
   ]
  },
  {
   "cell_type": "code",
   "execution_count": 3,
   "metadata": {
    "_kg_hide-input": true,
    "execution": {
     "iopub.execute_input": "2020-09-10T13:06:10.051337Z",
     "iopub.status.busy": "2020-09-10T13:06:10.050334Z",
     "iopub.status.idle": "2020-09-10T13:06:12.241818Z",
     "shell.execute_reply": "2020-09-10T13:06:12.240644Z"
    },
    "papermill": {
     "duration": 2.214233,
     "end_time": "2020-09-10T13:06:12.241984",
     "exception": false,
     "start_time": "2020-09-10T13:06:10.027751",
     "status": "completed"
    },
    "tags": []
   },
   "outputs": [],
   "source": [
    "import plotly\n",
    "import plotly_express as px\n",
    "import plotly.graph_objects as go\n",
    "from plotly.subplots import make_subplots\n",
    "import numpy as np\n",
    "import pandas as pd\n",
    "import warnings\n",
    "warnings.filterwarnings(\"ignore\")\n",
    "import googlemaps\n",
    "import re \n",
    "import pycountry\n",
    "import pycountry_convert as pc\n",
    "import requests\n",
    "import seaborn as sns\n",
    "import matplotlib.pyplot as plt\n",
    "plt.style.use('fivethirtyeight')"
   ]
  },
  {
   "cell_type": "markdown",
   "metadata": {
    "papermill": {
     "duration": 0.014011,
     "end_time": "2020-09-10T13:06:12.270377",
     "exception": false,
     "start_time": "2020-09-10T13:06:12.256366",
     "status": "completed"
    },
    "tags": []
   },
   "source": [
    "### <a id='in'> Where does India stand currently? </a>"
   ]
  },
  {
   "cell_type": "code",
   "execution_count": 4,
   "metadata": {
    "_kg_hide-input": true,
    "execution": {
     "iopub.execute_input": "2020-09-10T13:06:12.321362Z",
     "iopub.status.busy": "2020-09-10T13:06:12.313337Z",
     "iopub.status.idle": "2020-09-10T13:06:12.325068Z",
     "shell.execute_reply": "2020-09-10T13:06:12.324454Z"
    },
    "papermill": {
     "duration": 0.040294,
     "end_time": "2020-09-10T13:06:12.325197",
     "exception": false,
     "start_time": "2020-09-10T13:06:12.284903",
     "status": "completed"
    },
    "tags": []
   },
   "outputs": [],
   "source": [
    "class country_utils():\n",
    "    def __init__(self):\n",
    "        self.d = {}\n",
    "    \n",
    "    def get_dic(self):\n",
    "        return self.d\n",
    "    \n",
    "    def get_country_details(self,country):\n",
    "        \"\"\"Returns country code(alpha_3) and continent\"\"\"\n",
    "        try:\n",
    "            country_obj = pycountry.countries.get(name=country)\n",
    "            if country_obj is None:\n",
    "                c = pycountry.countries.search_fuzzy(country)\n",
    "                country_obj = c[0]\n",
    "            continent_code = pc.country_alpha2_to_continent_code(country_obj.alpha_2)\n",
    "            continent = pc.convert_continent_code_to_continent_name(continent_code)\n",
    "            return country_obj.alpha_3, continent\n",
    "        except:\n",
    "            if 'Congo' in country:\n",
    "                country = 'Congo'\n",
    "            if country == 'Mainland China':\n",
    "                country = 'China'\n",
    "            elif country == 'Diamond Princess' or country == 'Laos' or country == 'MS Zaandam'\\\n",
    "            or country == 'Holy See' or country == 'Timor-Leste':\n",
    "                return country, country\n",
    "            elif country == 'Korea, South' or country == 'South Korea':\n",
    "                country = 'Korea, Republic of'\n",
    "            elif country == 'Taiwan*':\n",
    "                country = 'Taiwan'\n",
    "            elif country == 'Burma':\n",
    "                country = 'Myanmar'\n",
    "            elif country == 'West Bank and Gaza':\n",
    "                country = 'Gaza'\n",
    "            else:\n",
    "                return country, country\n",
    "            country_obj = pycountry.countries.search_fuzzy(country)\n",
    "            continent_code = pc.country_alpha2_to_continent_code(country_obj[0].alpha_2)\n",
    "            continent = pc.convert_continent_code_to_continent_name(continent_code)\n",
    "            return country_obj[0].alpha_3, continent\n",
    "    \n",
    "    def get_iso3(self, country):\n",
    "        return self.d[country]['code']\n",
    "    \n",
    "    def get_continent(self,country):\n",
    "        return self.d[country]['continent']\n",
    "    \n",
    "    def add_values(self,country):\n",
    "        self.d[country] = {}\n",
    "        self.d[country]['code'],self.d[country]['continent'] = self.get_country_details(country)\n",
    "    \n",
    "    def fetch_iso3(self,country):\n",
    "        if country in self.d.keys():\n",
    "            return self.get_iso3(country)\n",
    "        else:\n",
    "            self.add_values(country)\n",
    "            return self.get_iso3(country)\n",
    "        \n",
    "    def fetch_continent(self,country):\n",
    "        if country in self.d.keys():\n",
    "            return self.get_continent(country)\n",
    "        else:\n",
    "            self.add_values(country)\n",
    "            return self.get_continent(country)"
   ]
  },
  {
   "cell_type": "code",
   "execution_count": 5,
   "metadata": {
    "_kg_hide-input": true,
    "execution": {
     "iopub.execute_input": "2020-09-10T13:06:12.371734Z",
     "iopub.status.busy": "2020-09-10T13:06:12.371059Z",
     "iopub.status.idle": "2020-09-10T13:06:12.699916Z",
     "shell.execute_reply": "2020-09-10T13:06:12.699295Z"
    },
    "papermill": {
     "duration": 0.360464,
     "end_time": "2020-09-10T13:06:12.700113",
     "exception": false,
     "start_time": "2020-09-10T13:06:12.339649",
     "status": "completed"
    },
    "tags": []
   },
   "outputs": [
    {
     "ename": "FileNotFoundError",
     "evalue": "[Errno 2] File b'/kaggle/input/novel-corona-virus-2019-dataset/covid_19_data.csv' does not exist: b'/kaggle/input/novel-corona-virus-2019-dataset/covid_19_data.csv'",
     "output_type": "error",
     "traceback": [
      "\u001b[1;31m---------------------------------------------------------------------------\u001b[0m",
      "\u001b[1;31mFileNotFoundError\u001b[0m                         Traceback (most recent call last)",
      "\u001b[1;32m<ipython-input-5-3f983bd52a23>\u001b[0m in \u001b[0;36m<module>\u001b[1;34m\u001b[0m\n\u001b[1;32m----> 1\u001b[1;33m \u001b[0mdf_world\u001b[0m \u001b[1;33m=\u001b[0m \u001b[0mpd\u001b[0m\u001b[1;33m.\u001b[0m\u001b[0mread_csv\u001b[0m\u001b[1;33m(\u001b[0m\u001b[1;34m'/kaggle/input/novel-corona-virus-2019-dataset/covid_19_data.csv'\u001b[0m\u001b[1;33m)\u001b[0m\u001b[1;33m\u001b[0m\u001b[1;33m\u001b[0m\u001b[0m\n\u001b[0m\u001b[0;32m      2\u001b[0m \u001b[0mdf_world\u001b[0m\u001b[1;33m.\u001b[0m\u001b[0mObservationDate\u001b[0m \u001b[1;33m=\u001b[0m \u001b[0mpd\u001b[0m\u001b[1;33m.\u001b[0m\u001b[0mto_datetime\u001b[0m\u001b[1;33m(\u001b[0m\u001b[0mdf_world\u001b[0m\u001b[1;33m.\u001b[0m\u001b[0mObservationDate\u001b[0m\u001b[1;33m,\u001b[0m \u001b[0mformat\u001b[0m\u001b[1;33m=\u001b[0m\u001b[1;34m'%m/%d/%Y'\u001b[0m\u001b[1;33m)\u001b[0m\u001b[1;33m\u001b[0m\u001b[1;33m\u001b[0m\u001b[0m\n\u001b[0;32m      3\u001b[0m \u001b[0mmax_date\u001b[0m \u001b[1;33m=\u001b[0m \u001b[0mdf_world\u001b[0m\u001b[1;33m.\u001b[0m\u001b[0mObservationDate\u001b[0m\u001b[1;33m.\u001b[0m\u001b[0mmax\u001b[0m\u001b[1;33m(\u001b[0m\u001b[1;33m)\u001b[0m\u001b[1;33m\u001b[0m\u001b[1;33m\u001b[0m\u001b[0m\n\u001b[0;32m      4\u001b[0m \u001b[0mdf_world\u001b[0m \u001b[1;33m=\u001b[0m \u001b[0mdf_world\u001b[0m\u001b[1;33m[\u001b[0m\u001b[0mdf_world\u001b[0m\u001b[1;33m.\u001b[0m\u001b[0mObservationDate\u001b[0m\u001b[1;33m==\u001b[0m\u001b[0mmax_date\u001b[0m\u001b[1;33m]\u001b[0m\u001b[1;33m\u001b[0m\u001b[1;33m\u001b[0m\u001b[0m\n\u001b[0;32m      5\u001b[0m \u001b[0mdf_world\u001b[0m\u001b[1;33m.\u001b[0m\u001b[0mrename\u001b[0m\u001b[1;33m(\u001b[0m\u001b[0mcolumns\u001b[0m\u001b[1;33m=\u001b[0m\u001b[1;33m{\u001b[0m\u001b[1;34m'Country/Region'\u001b[0m\u001b[1;33m:\u001b[0m\u001b[1;34m'Country'\u001b[0m\u001b[1;33m}\u001b[0m\u001b[1;33m,\u001b[0m\u001b[0minplace\u001b[0m\u001b[1;33m=\u001b[0m\u001b[1;32mTrue\u001b[0m\u001b[1;33m)\u001b[0m\u001b[1;33m\u001b[0m\u001b[1;33m\u001b[0m\u001b[0m\n",
      "\u001b[1;32m~\\Anaconda3\\lib\\site-packages\\pandas\\io\\parsers.py\u001b[0m in \u001b[0;36mparser_f\u001b[1;34m(filepath_or_buffer, sep, delimiter, header, names, index_col, usecols, squeeze, prefix, mangle_dupe_cols, dtype, engine, converters, true_values, false_values, skipinitialspace, skiprows, skipfooter, nrows, na_values, keep_default_na, na_filter, verbose, skip_blank_lines, parse_dates, infer_datetime_format, keep_date_col, date_parser, dayfirst, cache_dates, iterator, chunksize, compression, thousands, decimal, lineterminator, quotechar, quoting, doublequote, escapechar, comment, encoding, dialect, error_bad_lines, warn_bad_lines, delim_whitespace, low_memory, memory_map, float_precision)\u001b[0m\n\u001b[0;32m    683\u001b[0m         )\n\u001b[0;32m    684\u001b[0m \u001b[1;33m\u001b[0m\u001b[0m\n\u001b[1;32m--> 685\u001b[1;33m         \u001b[1;32mreturn\u001b[0m \u001b[0m_read\u001b[0m\u001b[1;33m(\u001b[0m\u001b[0mfilepath_or_buffer\u001b[0m\u001b[1;33m,\u001b[0m \u001b[0mkwds\u001b[0m\u001b[1;33m)\u001b[0m\u001b[1;33m\u001b[0m\u001b[1;33m\u001b[0m\u001b[0m\n\u001b[0m\u001b[0;32m    686\u001b[0m \u001b[1;33m\u001b[0m\u001b[0m\n\u001b[0;32m    687\u001b[0m     \u001b[0mparser_f\u001b[0m\u001b[1;33m.\u001b[0m\u001b[0m__name__\u001b[0m \u001b[1;33m=\u001b[0m \u001b[0mname\u001b[0m\u001b[1;33m\u001b[0m\u001b[1;33m\u001b[0m\u001b[0m\n",
      "\u001b[1;32m~\\Anaconda3\\lib\\site-packages\\pandas\\io\\parsers.py\u001b[0m in \u001b[0;36m_read\u001b[1;34m(filepath_or_buffer, kwds)\u001b[0m\n\u001b[0;32m    455\u001b[0m \u001b[1;33m\u001b[0m\u001b[0m\n\u001b[0;32m    456\u001b[0m     \u001b[1;31m# Create the parser.\u001b[0m\u001b[1;33m\u001b[0m\u001b[1;33m\u001b[0m\u001b[1;33m\u001b[0m\u001b[0m\n\u001b[1;32m--> 457\u001b[1;33m     \u001b[0mparser\u001b[0m \u001b[1;33m=\u001b[0m \u001b[0mTextFileReader\u001b[0m\u001b[1;33m(\u001b[0m\u001b[0mfp_or_buf\u001b[0m\u001b[1;33m,\u001b[0m \u001b[1;33m**\u001b[0m\u001b[0mkwds\u001b[0m\u001b[1;33m)\u001b[0m\u001b[1;33m\u001b[0m\u001b[1;33m\u001b[0m\u001b[0m\n\u001b[0m\u001b[0;32m    458\u001b[0m \u001b[1;33m\u001b[0m\u001b[0m\n\u001b[0;32m    459\u001b[0m     \u001b[1;32mif\u001b[0m \u001b[0mchunksize\u001b[0m \u001b[1;32mor\u001b[0m \u001b[0miterator\u001b[0m\u001b[1;33m:\u001b[0m\u001b[1;33m\u001b[0m\u001b[1;33m\u001b[0m\u001b[0m\n",
      "\u001b[1;32m~\\Anaconda3\\lib\\site-packages\\pandas\\io\\parsers.py\u001b[0m in \u001b[0;36m__init__\u001b[1;34m(self, f, engine, **kwds)\u001b[0m\n\u001b[0;32m    893\u001b[0m             \u001b[0mself\u001b[0m\u001b[1;33m.\u001b[0m\u001b[0moptions\u001b[0m\u001b[1;33m[\u001b[0m\u001b[1;34m\"has_index_names\"\u001b[0m\u001b[1;33m]\u001b[0m \u001b[1;33m=\u001b[0m \u001b[0mkwds\u001b[0m\u001b[1;33m[\u001b[0m\u001b[1;34m\"has_index_names\"\u001b[0m\u001b[1;33m]\u001b[0m\u001b[1;33m\u001b[0m\u001b[1;33m\u001b[0m\u001b[0m\n\u001b[0;32m    894\u001b[0m \u001b[1;33m\u001b[0m\u001b[0m\n\u001b[1;32m--> 895\u001b[1;33m         \u001b[0mself\u001b[0m\u001b[1;33m.\u001b[0m\u001b[0m_make_engine\u001b[0m\u001b[1;33m(\u001b[0m\u001b[0mself\u001b[0m\u001b[1;33m.\u001b[0m\u001b[0mengine\u001b[0m\u001b[1;33m)\u001b[0m\u001b[1;33m\u001b[0m\u001b[1;33m\u001b[0m\u001b[0m\n\u001b[0m\u001b[0;32m    896\u001b[0m \u001b[1;33m\u001b[0m\u001b[0m\n\u001b[0;32m    897\u001b[0m     \u001b[1;32mdef\u001b[0m \u001b[0mclose\u001b[0m\u001b[1;33m(\u001b[0m\u001b[0mself\u001b[0m\u001b[1;33m)\u001b[0m\u001b[1;33m:\u001b[0m\u001b[1;33m\u001b[0m\u001b[1;33m\u001b[0m\u001b[0m\n",
      "\u001b[1;32m~\\Anaconda3\\lib\\site-packages\\pandas\\io\\parsers.py\u001b[0m in \u001b[0;36m_make_engine\u001b[1;34m(self, engine)\u001b[0m\n\u001b[0;32m   1133\u001b[0m     \u001b[1;32mdef\u001b[0m \u001b[0m_make_engine\u001b[0m\u001b[1;33m(\u001b[0m\u001b[0mself\u001b[0m\u001b[1;33m,\u001b[0m \u001b[0mengine\u001b[0m\u001b[1;33m=\u001b[0m\u001b[1;34m\"c\"\u001b[0m\u001b[1;33m)\u001b[0m\u001b[1;33m:\u001b[0m\u001b[1;33m\u001b[0m\u001b[1;33m\u001b[0m\u001b[0m\n\u001b[0;32m   1134\u001b[0m         \u001b[1;32mif\u001b[0m \u001b[0mengine\u001b[0m \u001b[1;33m==\u001b[0m \u001b[1;34m\"c\"\u001b[0m\u001b[1;33m:\u001b[0m\u001b[1;33m\u001b[0m\u001b[1;33m\u001b[0m\u001b[0m\n\u001b[1;32m-> 1135\u001b[1;33m             \u001b[0mself\u001b[0m\u001b[1;33m.\u001b[0m\u001b[0m_engine\u001b[0m \u001b[1;33m=\u001b[0m \u001b[0mCParserWrapper\u001b[0m\u001b[1;33m(\u001b[0m\u001b[0mself\u001b[0m\u001b[1;33m.\u001b[0m\u001b[0mf\u001b[0m\u001b[1;33m,\u001b[0m \u001b[1;33m**\u001b[0m\u001b[0mself\u001b[0m\u001b[1;33m.\u001b[0m\u001b[0moptions\u001b[0m\u001b[1;33m)\u001b[0m\u001b[1;33m\u001b[0m\u001b[1;33m\u001b[0m\u001b[0m\n\u001b[0m\u001b[0;32m   1136\u001b[0m         \u001b[1;32melse\u001b[0m\u001b[1;33m:\u001b[0m\u001b[1;33m\u001b[0m\u001b[1;33m\u001b[0m\u001b[0m\n\u001b[0;32m   1137\u001b[0m             \u001b[1;32mif\u001b[0m \u001b[0mengine\u001b[0m \u001b[1;33m==\u001b[0m \u001b[1;34m\"python\"\u001b[0m\u001b[1;33m:\u001b[0m\u001b[1;33m\u001b[0m\u001b[1;33m\u001b[0m\u001b[0m\n",
      "\u001b[1;32m~\\Anaconda3\\lib\\site-packages\\pandas\\io\\parsers.py\u001b[0m in \u001b[0;36m__init__\u001b[1;34m(self, src, **kwds)\u001b[0m\n\u001b[0;32m   1915\u001b[0m         \u001b[0mkwds\u001b[0m\u001b[1;33m[\u001b[0m\u001b[1;34m\"usecols\"\u001b[0m\u001b[1;33m]\u001b[0m \u001b[1;33m=\u001b[0m \u001b[0mself\u001b[0m\u001b[1;33m.\u001b[0m\u001b[0musecols\u001b[0m\u001b[1;33m\u001b[0m\u001b[1;33m\u001b[0m\u001b[0m\n\u001b[0;32m   1916\u001b[0m \u001b[1;33m\u001b[0m\u001b[0m\n\u001b[1;32m-> 1917\u001b[1;33m         \u001b[0mself\u001b[0m\u001b[1;33m.\u001b[0m\u001b[0m_reader\u001b[0m \u001b[1;33m=\u001b[0m \u001b[0mparsers\u001b[0m\u001b[1;33m.\u001b[0m\u001b[0mTextReader\u001b[0m\u001b[1;33m(\u001b[0m\u001b[0msrc\u001b[0m\u001b[1;33m,\u001b[0m \u001b[1;33m**\u001b[0m\u001b[0mkwds\u001b[0m\u001b[1;33m)\u001b[0m\u001b[1;33m\u001b[0m\u001b[1;33m\u001b[0m\u001b[0m\n\u001b[0m\u001b[0;32m   1918\u001b[0m         \u001b[0mself\u001b[0m\u001b[1;33m.\u001b[0m\u001b[0munnamed_cols\u001b[0m \u001b[1;33m=\u001b[0m \u001b[0mself\u001b[0m\u001b[1;33m.\u001b[0m\u001b[0m_reader\u001b[0m\u001b[1;33m.\u001b[0m\u001b[0munnamed_cols\u001b[0m\u001b[1;33m\u001b[0m\u001b[1;33m\u001b[0m\u001b[0m\n\u001b[0;32m   1919\u001b[0m \u001b[1;33m\u001b[0m\u001b[0m\n",
      "\u001b[1;32mpandas\\_libs\\parsers.pyx\u001b[0m in \u001b[0;36mpandas._libs.parsers.TextReader.__cinit__\u001b[1;34m()\u001b[0m\n",
      "\u001b[1;32mpandas\\_libs\\parsers.pyx\u001b[0m in \u001b[0;36mpandas._libs.parsers.TextReader._setup_parser_source\u001b[1;34m()\u001b[0m\n",
      "\u001b[1;31mFileNotFoundError\u001b[0m: [Errno 2] File b'/kaggle/input/novel-corona-virus-2019-dataset/covid_19_data.csv' does not exist: b'/kaggle/input/novel-corona-virus-2019-dataset/covid_19_data.csv'"
     ]
    }
   ],
   "source": [
    "df_world = pd.read_csv('/kaggle/input/novel-corona-virus-2019-dataset/covid_19_data.csv')\n",
    "df_world.ObservationDate = pd.to_datetime(df_world.ObservationDate, format='%m/%d/%Y')\n",
    "max_date = df_world.ObservationDate.max()\n",
    "df_world = df_world[df_world.ObservationDate==max_date]\n",
    "df_world.rename(columns={'Country/Region':'Country'},inplace=True)\n",
    "df_cont = df_world.copy()\n",
    "df_world = df_world.groupby(['Country'],as_index=False)['Confirmed','Deaths','Recovered'].sum()\n",
    "df_world['rank_c'] = df_world['Confirmed'].rank(ascending=False)\n",
    "df_world['rank_d'] = df_world['Deaths'].rank(ascending=False)\n",
    "df_world['rank_r'] = df_world['Recovered'].rank(ascending=False)\n",
    "world_stat = (df_world.loc[df_world['Country']=='India'])\n",
    "world_stat.set_index('Country',inplace=True)\n",
    "world_stat = world_stat.astype(int)"
   ]
  },
  {
   "cell_type": "code",
   "execution_count": null,
   "metadata": {
    "_kg_hide-input": true,
    "execution": {
     "iopub.execute_input": "2020-09-10T13:06:12.740237Z",
     "iopub.status.busy": "2020-09-10T13:06:12.739083Z",
     "iopub.status.idle": "2020-09-10T13:06:15.585709Z",
     "shell.execute_reply": "2020-09-10T13:06:15.585006Z"
    },
    "papermill": {
     "duration": 2.871247,
     "end_time": "2020-09-10T13:06:15.585834",
     "exception": false,
     "start_time": "2020-09-10T13:06:12.714587",
     "status": "completed"
    },
    "tags": []
   },
   "outputs": [],
   "source": [
    "obj = country_utils()\n",
    "df_cont['continent'] = df_cont.apply(lambda x: obj.fetch_continent(x['Country']), axis=1)\n",
    "df_cont = df_cont.groupby(['continent','Country'],as_index=False)['Confirmed','Deaths','Recovered'].sum()\n",
    "df_cont = df_cont[df_cont['continent']=='Asia']\n",
    "df_cont['rank_c'] = df_cont['Confirmed'].rank(ascending=False)\n",
    "df_cont['rank_d'] = df_cont['Deaths'].rank(ascending=False)\n",
    "df_cont['rank_r'] = df_cont['Recovered'].rank(ascending=False)\n",
    "cont_stat = (df_cont.loc[df_cont['Country']=='India'])\n",
    "cont_stat.set_index('Country',inplace=True)\n",
    "cont_stat.drop('continent',inplace=True,axis=1)\n",
    "cont_stat = cont_stat.astype(int)"
   ]
  },
  {
   "cell_type": "markdown",
   "metadata": {
    "papermill": {
     "duration": 0.014133,
     "end_time": "2020-09-10T13:06:15.614629",
     "exception": false,
     "start_time": "2020-09-10T13:06:15.600496",
     "status": "completed"
    },
    "tags": []
   },
   "source": [
    "The table below shows the current figures and ranking for India in the World and in Asia."
   ]
  },
  {
   "cell_type": "code",
   "execution_count": null,
   "metadata": {
    "_kg_hide-input": true,
    "execution": {
     "iopub.execute_input": "2020-09-10T13:06:15.655645Z",
     "iopub.status.busy": "2020-09-10T13:06:15.654601Z",
     "iopub.status.idle": "2020-09-10T13:06:15.658049Z",
     "shell.execute_reply": "2020-09-10T13:06:15.657421Z"
    },
    "papermill": {
     "duration": 0.028723,
     "end_time": "2020-09-10T13:06:15.658165",
     "exception": false,
     "start_time": "2020-09-10T13:06:15.629442",
     "status": "completed"
    },
    "tags": []
   },
   "outputs": [],
   "source": [
    "def make_538(fig,title=None,xtext=None,ytext=None,hovermode='x',width=700,height=400,margin=dict(t=50,b=10,l=10,r=10),legend=None,annotations=None):\n",
    "    fig.update_layout(\n",
    "        template='simple_white',\n",
    "        title=title,\n",
    "        hovermode=hovermode,\n",
    "        xaxis=dict(title=xtext,showline=False,showgrid=True,ticks='',gridcolor=colors['grid']),\n",
    "        yaxis=dict(title=ytext,showline=False,showgrid=True,ticks='',gridcolor=colors['grid']),\n",
    "        paper_bgcolor=colors['bg'],\n",
    "        plot_bgcolor=colors['bg'],\n",
    "        width=width,\n",
    "        height=height,\n",
    "        margin=margin,\n",
    "        legend=legend,\n",
    "        annotations=annotations\n",
    "    )\n",
    "    return fig"
   ]
  },
  {
   "cell_type": "code",
   "execution_count": null,
   "metadata": {
    "_kg_hide-input": true,
    "execution": {
     "iopub.execute_input": "2020-09-10T13:06:15.693525Z",
     "iopub.status.busy": "2020-09-10T13:06:15.692842Z",
     "iopub.status.idle": "2020-09-10T13:06:15.697598Z",
     "shell.execute_reply": "2020-09-10T13:06:15.697081Z"
    },
    "papermill": {
     "duration": 0.024647,
     "end_time": "2020-09-10T13:06:15.697719",
     "exception": false,
     "start_time": "2020-09-10T13:06:15.673072",
     "status": "completed"
    },
    "tags": []
   },
   "outputs": [],
   "source": [
    "colors = dict(bg='#f0f0f0',\n",
    "              grid='#d7d7d7',\n",
    "              cases='#30a2da',\n",
    "              deaths='#fc4f30',\n",
    "              recoveries='#6d904f',\n",
    "              shape='#8b8b8b')"
   ]
  },
  {
   "cell_type": "code",
   "execution_count": null,
   "metadata": {
    "_kg_hide-input": true,
    "execution": {
     "iopub.execute_input": "2020-09-10T13:06:15.741970Z",
     "iopub.status.busy": "2020-09-10T13:06:15.735788Z",
     "iopub.status.idle": "2020-09-10T13:06:16.914914Z",
     "shell.execute_reply": "2020-09-10T13:06:16.915379Z"
    },
    "papermill": {
     "duration": 1.203082,
     "end_time": "2020-09-10T13:06:16.915542",
     "exception": false,
     "start_time": "2020-09-10T13:06:15.712460",
     "status": "completed"
    },
    "tags": []
   },
   "outputs": [],
   "source": [
    "import plotly.graph_objects as go\n",
    "\n",
    "values = [['Figures','World Ranking','Asia Ranking'],\n",
    "          [world_stat.Confirmed['India'],world_stat.rank_c['India'],cont_stat.rank_c['India']],\n",
    "          [world_stat.Deaths['India'],world_stat.rank_d['India'],cont_stat.rank_d['India']],\n",
    "          [world_stat.Recovered['India'],world_stat.rank_r['India'],cont_stat.rank_r['India']]]\n",
    "\n",
    "\n",
    "fig = go.Figure(data=[go.Table(\n",
    "  columnorder = [1,2,3,4],\n",
    "  columnwidth = [300,400],\n",
    "  header = dict(\n",
    "    values = [['<b>STATISTICS</b><br>as of '+str(max_date.day)+' '+ max_date.month_name()],\n",
    "              ['<b>CASES</b>'],['<b>DEATHS</b>'],['<b>RECOVERIES</b>']],\n",
    "    line_color=colors['grid'],\n",
    "    fill_color=colors['cases'],\n",
    "    align=['left','center'],\n",
    "    font=dict(color='white', size=12),\n",
    "    height=40\n",
    "  ),\n",
    "  cells=dict(\n",
    "    values=values,\n",
    "    line_color=colors['grid'],\n",
    "    fill=dict(color=[colors['shape'], 'white']),\n",
    "    align=['left', 'center'],\n",
    "    font_size=12,\n",
    "    height=30)\n",
    "    )\n",
    "])\n",
    "fig = make_538(fig,height=250,title=dict(text='<b>Report from Ground Zero</b>',font=dict(family='Helvetica')))\n",
    "fig.show()"
   ]
  },
  {
   "cell_type": "code",
   "execution_count": null,
   "metadata": {
    "_cell_guid": "79c7e3d0-c299-4dcb-8224-4455121ee9b0",
    "_kg_hide-input": true,
    "_uuid": "d629ff2d2480ee46fbb7e2d37f6b5fab8052498a",
    "execution": {
     "iopub.execute_input": "2020-09-10T13:06:16.962406Z",
     "iopub.status.busy": "2020-09-10T13:06:16.954601Z",
     "iopub.status.idle": "2020-09-10T13:06:17.244958Z",
     "shell.execute_reply": "2020-09-10T13:06:17.244281Z"
    },
    "papermill": {
     "duration": 0.314078,
     "end_time": "2020-09-10T13:06:17.245087",
     "exception": false,
     "start_time": "2020-09-10T13:06:16.931009",
     "status": "completed"
    },
    "tags": []
   },
   "outputs": [],
   "source": [
    "df = pd.read_csv('/kaggle/input/covid19-in-india/covid_19_india.csv')\n",
    "df['Date'] = pd.to_datetime(df['Date'],format='%d/%m/%y')\n",
    "df['Date'] = df['Date'].dt.date\n",
    "df.rename(columns={'Date':'date','State/UnionTerritory':'state','ConfirmedIndianNational':'confirmed_in',\\\n",
    "                   'ConfirmedForeignNational':'confirmed_fr'}, inplace=True)\n",
    "df.drop(['Sno','Time'],axis=1,inplace=True)\n",
    "df['state'] = df.apply(lambda x: 'Nagaland' if x['state']=='Nagaland#' else 'Jharkhand' if x['state']=='Jharkhand#' else x['state'], axis=1)\n",
    "df = df[df['state']!='Unassigned']\n",
    "df.reset_index(inplace=True)"
   ]
  },
  {
   "cell_type": "code",
   "execution_count": null,
   "metadata": {
    "_kg_hide-input": true,
    "execution": {
     "iopub.execute_input": "2020-09-10T13:06:17.292528Z",
     "iopub.status.busy": "2020-09-10T13:06:17.291766Z",
     "iopub.status.idle": "2020-09-10T13:06:17.780975Z",
     "shell.execute_reply": "2020-09-10T13:06:17.780302Z"
    },
    "papermill": {
     "duration": 0.520132,
     "end_time": "2020-09-10T13:06:17.781124",
     "exception": false,
     "start_time": "2020-09-10T13:06:17.260992",
     "status": "completed"
    },
    "tags": []
   },
   "outputs": [],
   "source": [
    "from kaggle_secrets import UserSecretsClient\n",
    "user_secrets = UserSecretsClient()\n",
    "secret_value_0 = user_secrets.get_secret(\"gmaps\")\n",
    "secret_value_1 = user_secrets.get_secret(\"mapboxtoken\")\n",
    "gmaps = googlemaps.Client(key=secret_value_0)"
   ]
  },
  {
   "cell_type": "code",
   "execution_count": null,
   "metadata": {
    "_kg_hide-input": true,
    "execution": {
     "iopub.execute_input": "2020-09-10T13:06:17.831222Z",
     "iopub.status.busy": "2020-09-10T13:06:17.830518Z",
     "iopub.status.idle": "2020-09-10T13:06:17.833755Z",
     "shell.execute_reply": "2020-09-10T13:06:17.833266Z"
    },
    "papermill": {
     "duration": 0.036922,
     "end_time": "2020-09-10T13:06:17.833939",
     "exception": false,
     "start_time": "2020-09-10T13:06:17.797017",
     "status": "completed"
    },
    "tags": []
   },
   "outputs": [],
   "source": [
    "def add_daily_measures(df):\n",
    "    has_state=False\n",
    "    if 'state' in df.columns:\n",
    "        states = []\n",
    "        has_state = True\n",
    "    df.loc[0,'Daily Cases'] = df.loc[0,'Confirmed']\n",
    "    df.loc[0,'Daily Deaths'] = df.loc[0,'Deaths']\n",
    "    df.loc[0,'Daily Cured'] = df.loc[0,'Cured']\n",
    "    for i in range(1,len(df)):\n",
    "        if has_state:\n",
    "            if df.loc[i,'state'] in states:\n",
    "                df.loc[i,'Daily Cases'] = df.loc[i,'Confirmed'] - df.loc[i-1,'Confirmed']\n",
    "                df.loc[i,'Daily Deaths'] = df.loc[i,'Deaths'] - df.loc[i-1,'Deaths'] \n",
    "                df.loc[i,'Daily Cured'] = df.loc[i,'Cured'] - df.loc[i-1,'Cured']\n",
    "            else:\n",
    "                states.append(df.loc[i,'state'])\n",
    "                df.loc[i,'Daily Cases'] = df.loc[i,'Confirmed']\n",
    "                df.loc[i,'Daily Deaths'] = df.loc[i,'Deaths']\n",
    "                df.loc[i,'Daily Cured'] = df.loc[i,'Cured']\n",
    "        else:\n",
    "            df.loc[i,'Daily Cases'] = df.loc[i,'Confirmed'] - df.loc[i-1,'Confirmed']\n",
    "            df.loc[i,'Daily Deaths'] = df.loc[i,'Deaths'] - df.loc[i-1,'Deaths'] \n",
    "            df.loc[i,'Daily Cured'] = df.loc[i,'Cured'] - df.loc[i-1,'Cured']\n",
    "    #Make the first row as 0 because we don't know the previous value\n",
    "    df.loc[0,'Daily Cases'] = 0\n",
    "    df.loc[0,'Daily Deaths'] = 0\n",
    "    df.loc[0,'Daily Cured'] = 0\n",
    "    return df"
   ]
  },
  {
   "cell_type": "markdown",
   "metadata": {
    "papermill": {
     "duration": 0.014888,
     "end_time": "2020-09-10T13:06:17.864385",
     "exception": false,
     "start_time": "2020-09-10T13:06:17.849497",
     "status": "completed"
    },
    "tags": []
   },
   "source": [
    "The plot below shows the total cases, deaths and recoveries reported on a daily basis. The worrying point is that even after almost nation-wide lockdowns the case are increasing."
   ]
  },
  {
   "cell_type": "code",
   "execution_count": null,
   "metadata": {
    "_kg_hide-input": true,
    "execution": {
     "iopub.execute_input": "2020-09-10T13:06:17.902491Z",
     "iopub.status.busy": "2020-09-10T13:06:17.901451Z",
     "iopub.status.idle": "2020-09-10T13:06:17.917187Z",
     "shell.execute_reply": "2020-09-10T13:06:17.917680Z"
    },
    "papermill": {
     "duration": 0.038303,
     "end_time": "2020-09-10T13:06:17.917839",
     "exception": false,
     "start_time": "2020-09-10T13:06:17.879536",
     "status": "completed"
    },
    "tags": []
   },
   "outputs": [],
   "source": [
    "df.loc[1428,'state'] = 'Madhya Pradesh'\n",
    "df.loc[1428,'Deaths'] = '119'\n",
    "df.fillna(0,inplace=True)\n",
    "df.loc[df.Deaths=='0#','Deaths'] = 0\n",
    "df.Deaths = df.Deaths.astype(np.int16)"
   ]
  },
  {
   "cell_type": "code",
   "execution_count": null,
   "metadata": {
    "_kg_hide-input": true,
    "execution": {
     "iopub.execute_input": "2020-09-10T13:06:17.952391Z",
     "iopub.status.busy": "2020-09-10T13:06:17.951389Z",
     "iopub.status.idle": "2020-09-10T13:06:17.957943Z",
     "shell.execute_reply": "2020-09-10T13:06:17.958418Z"
    },
    "papermill": {
     "duration": 0.02532,
     "end_time": "2020-09-10T13:06:17.958583",
     "exception": false,
     "start_time": "2020-09-10T13:06:17.933263",
     "status": "completed"
    },
    "tags": []
   },
   "outputs": [],
   "source": [
    "imp_dates = [dict(date='2020-03-23',event=\"Lockdown Phase 1<br><b>23<sup>rd</sup> March</b>\"),\n",
    "             dict(date='2020-04-15',event=\"Lockdown Phase 2<br><b>15<sup>th</sup> April</b>\"),\n",
    "             dict(date='2020-05-04',event=\"Lockdown Phase 3<br><b>4<sup>th</sup> May</b>\"),\n",
    "             dict(date='2020-05-18',event=\"Lockdown Phase 4<br><b>18<sup>th</sup> May</b>\"),\n",
    "             dict(date='2020-06-01',event=\"Unlock 1.0<br><b>1<sup>st</sup> June</b>\"),\n",
    "             dict(date='2020-07-01',event=\"Unlock 2.0<br><b>1<sup>st</sup> July</b>\"),\n",
    "             dict(date='2020-08-01',event=\"Unlock 3.0<br><b>1<sup>st</sup> August</b>\")]"
   ]
  },
  {
   "cell_type": "code",
   "execution_count": null,
   "metadata": {
    "_kg_hide-input": true,
    "execution": {
     "iopub.execute_input": "2020-09-10T13:06:17.993252Z",
     "iopub.status.busy": "2020-09-10T13:06:17.992185Z",
     "iopub.status.idle": "2020-09-10T13:06:18.359410Z",
     "shell.execute_reply": "2020-09-10T13:06:18.359975Z"
    },
    "papermill": {
     "duration": 0.386143,
     "end_time": "2020-09-10T13:06:18.360122",
     "exception": false,
     "start_time": "2020-09-10T13:06:17.973979",
     "status": "completed"
    },
    "tags": []
   },
   "outputs": [],
   "source": [
    "df_ind = df.copy()\n",
    "df_ind = df_ind.groupby('date',as_index=False)['Cured','Deaths','Confirmed'].sum()\n",
    "df_ind = add_daily_measures(df_ind)\n",
    "fig = go.Figure(data=[\n",
    "    go.Scatter(name='Cases', x=df_ind['date'], y=df_ind['Daily Cases'],mode='lines',\n",
    "               line=dict(color=colors['cases'],width=5)),\n",
    "    go.Scatter(name='Recoveries', x=df_ind['date'], y=df_ind['Daily Cured'],mode='lines',\n",
    "               line=dict(color=colors['recoveries'],width=5)),\n",
    "    go.Scatter(name='Deaths', x=df_ind['date'], y=df_ind['Daily Deaths'],mode='lines',\n",
    "               line=dict(color=colors['deaths'],width=5)),\n",
    "])\n",
    "\n",
    "annotations = []\n",
    "\n",
    "for date in imp_dates:\n",
    "    fig.add_shape(type='line',xref='x',yref='y',layer='below',\n",
    "                  x0=date['date'] ,y0=0,x1=date['date'],y1=100000,\n",
    "                  line=dict(dash='dot',color=colors['shape'],width=3))\n",
    "    annotations.append(dict(x=date['date'], y=80000, xref=\"x\", yref=\"y\",textangle=-45, \n",
    "                            text=date['event'], font=dict(size=10), showarrow=False))\n",
    "annotations[-1]['y'] = 15000\n",
    "legend=dict(orientation='h',x=0.5,y=1.1,bgcolor=colors['bg'])\n",
    "fig = make_538(fig,title='Daily Cases, Deaths & Recoveries',legend=legend,annotations=annotations)\n",
    "fig.show()"
   ]
  },
  {
   "cell_type": "code",
   "execution_count": null,
   "metadata": {
    "_kg_hide-input": true,
    "execution": {
     "iopub.execute_input": "2020-09-10T13:06:18.395966Z",
     "iopub.status.busy": "2020-09-10T13:06:18.395278Z",
     "iopub.status.idle": "2020-09-10T13:06:18.402932Z",
     "shell.execute_reply": "2020-09-10T13:06:18.403477Z"
    },
    "papermill": {
     "duration": 0.027396,
     "end_time": "2020-09-10T13:06:18.403638",
     "exception": false,
     "start_time": "2020-09-10T13:06:18.376242",
     "status": "completed"
    },
    "tags": []
   },
   "outputs": [],
   "source": [
    "%%HTML\n",
    "<div class=\"flourish-embed flourish-bar-chart-race\" data-src=\"visualisation/2061549\" data-url=\"https://flo.uri.sh/visualisation/2061549/embed\" aria-label=\"\"><script src=\"https://public.flourish.studio/resources/embed.js\"></script></div>"
   ]
  },
  {
   "cell_type": "markdown",
   "metadata": {
    "papermill": {
     "duration": 0.015908,
     "end_time": "2020-09-10T13:06:18.436100",
     "exception": false,
     "start_time": "2020-09-10T13:06:18.420192",
     "status": "completed"
    },
    "tags": []
   },
   "source": [
    "The above Bar chart race is an attempt to show the progression of total cases in India."
   ]
  },
  {
   "cell_type": "code",
   "execution_count": null,
   "metadata": {
    "_kg_hide-input": true,
    "execution": {
     "iopub.execute_input": "2020-09-10T13:06:18.476215Z",
     "iopub.status.busy": "2020-09-10T13:06:18.475527Z",
     "iopub.status.idle": "2020-09-10T13:06:18.765639Z",
     "shell.execute_reply": "2020-09-10T13:06:18.764855Z"
    },
    "papermill": {
     "duration": 0.313045,
     "end_time": "2020-09-10T13:06:18.765755",
     "exception": false,
     "start_time": "2020-09-10T13:06:18.452710",
     "status": "completed"
    },
    "tags": []
   },
   "outputs": [],
   "source": [
    "#Code to get the dataset for Bar chart race\n",
    "df_br = df.copy()\n",
    "df_br = df_br.pivot(index='state',columns='date',values='Confirmed')\n",
    "df_br.fillna(0,inplace=True)\n",
    "df_br.reset_index(level=0, inplace=True)\n",
    "df_br.columns.name = ''\n",
    "df_br.to_csv(r'confirmed_cases_india.csv',index=False)"
   ]
  },
  {
   "cell_type": "markdown",
   "metadata": {
    "papermill": {
     "duration": 0.015716,
     "end_time": "2020-09-10T13:06:18.797796",
     "exception": false,
     "start_time": "2020-09-10T13:06:18.782080",
     "status": "completed"
    },
    "tags": []
   },
   "source": [
    "### <a id='dr'> Studying Doubling rates</a>"
   ]
  },
  {
   "cell_type": "code",
   "execution_count": null,
   "metadata": {
    "_kg_hide-input": true,
    "execution": {
     "iopub.execute_input": "2020-09-10T13:06:18.847138Z",
     "iopub.status.busy": "2020-09-10T13:06:18.841222Z",
     "iopub.status.idle": "2020-09-10T13:06:18.908330Z",
     "shell.execute_reply": "2020-09-10T13:06:18.908889Z"
    },
    "papermill": {
     "duration": 0.095257,
     "end_time": "2020-09-10T13:06:18.909050",
     "exception": false,
     "start_time": "2020-09-10T13:06:18.813793",
     "status": "completed"
    },
    "tags": []
   },
   "outputs": [],
   "source": [
    "def doubling_rate_india(x):\n",
    "    dr = np.log(2)/np.log(x['Confirmed']/x['Confirmed_prev'])\n",
    "    return np.round(dr,2)\n",
    "\n",
    "df_ind['Confirmed_prev'] = df_ind['Confirmed'].shift(1)\n",
    "df_ind['Doubling rate'] = df_ind.apply(lambda x: doubling_rate_india(x),axis=1)\n",
    "fig = go.Figure()\n",
    "fig.add_trace(go.Scatter(x=df_ind['date'],y=df_ind['Doubling rate'],mode='lines',\n",
    "                         line=dict(color=colors['cases'],width=5)))\n",
    "fig = make_538(fig,ytext='Days',title=\"India's Daily Doubling rate variation\")\n",
    "fig.show()"
   ]
  },
  {
   "cell_type": "code",
   "execution_count": null,
   "metadata": {
    "_kg_hide-input": true,
    "execution": {
     "iopub.execute_input": "2020-09-10T13:06:18.962687Z",
     "iopub.status.busy": "2020-09-10T13:06:18.961644Z",
     "iopub.status.idle": "2020-09-10T13:06:19.417567Z",
     "shell.execute_reply": "2020-09-10T13:06:19.418666Z"
    },
    "papermill": {
     "duration": 0.492774,
     "end_time": "2020-09-10T13:06:19.418840",
     "exception": false,
     "start_time": "2020-09-10T13:06:18.926066",
     "status": "completed"
    },
    "tags": []
   },
   "outputs": [],
   "source": [
    "doubling_rate = 0\n",
    "state = df.state.unique().tolist()[0]\n",
    "def calc_doubling_rate(x):\n",
    "    global growth_rate\n",
    "    global state\n",
    "    if x['state']!=state:\n",
    "        doubling_rate=0\n",
    "        state = x['state']\n",
    "    try:\n",
    "        dr = np.log(2)/np.log(x['Confirmed']/x['Confirmed_prev'])\n",
    "    except ZeroDivisionError:\n",
    "        dr = 0\n",
    "    return np.round(dr,2)\n",
    "\n",
    "df_dr = df.copy()\n",
    "df_dr.sort_values(['state','date'],inplace=True)\n",
    "df_dr.reset_index(drop=True,inplace=True)\n",
    "df_dr['Confirmed_prev'] = df_dr.groupby('state')['Confirmed'].transform(lambda x: x.shift(1))\n",
    "df_dr['Doubling rate'] = df_dr.apply(lambda x: calc_doubling_rate(x),axis=1)\n",
    "df_curr_dr = df_dr[df_dr['date']==df_dr.date.max()]\n",
    "df_curr_dr.sort_values('Confirmed',ascending=False,inplace=True)\n",
    "df_curr_dr=df_curr_dr[['state','Confirmed','Doubling rate']]\n",
    "df_curr_dr=df_curr_dr.nlargest(15,'Confirmed')\n",
    "df_curr_dr.reset_index(drop=True,inplace=True)\n",
    "\n",
    "# Set CSS properties for th elements in dataframe\n",
    "th_props = [\n",
    "  ('font-size', '11px'),\n",
    "  ('text-align', 'center'),\n",
    "  ('font-weight', 'bold'),\n",
    "  ('color', '#6d6d6d'),\n",
    "  ('background-color', '#f7f7f9')\n",
    "  ]\n",
    "\n",
    "# Set CSS properties for td elements in dataframe\n",
    "td_props = [\n",
    "  ('font-size', '11px')\n",
    "  ]\n",
    "\n",
    "# Set table styles\n",
    "styles = [\n",
    "  dict(selector=\"th\", props=th_props),\n",
    "  dict(selector=\"td\", props=td_props)\n",
    "  ]\n",
    "\n",
    "(df_curr_dr.style\n",
    " .background_gradient(cmap='Reds_r',subset='Doubling rate')\n",
    " .background_gradient(cmap='Blues',subset='Confirmed')\n",
    " .set_caption('Doubling Rates of 15 Indian States with most cases')\n",
    " .set_table_styles(styles))"
   ]
  },
  {
   "cell_type": "code",
   "execution_count": null,
   "metadata": {
    "_kg_hide-input": true,
    "execution": {
     "iopub.execute_input": "2020-09-10T13:06:19.505926Z",
     "iopub.status.busy": "2020-09-10T13:06:19.503922Z",
     "iopub.status.idle": "2020-09-10T13:06:19.832946Z",
     "shell.execute_reply": "2020-09-10T13:06:19.833441Z"
    },
    "papermill": {
     "duration": 0.363987,
     "end_time": "2020-09-10T13:06:19.833595",
     "exception": false,
     "start_time": "2020-09-10T13:06:19.469608",
     "status": "completed"
    },
    "tags": []
   },
   "outputs": [],
   "source": [
    "df_dr = df_dr.merge(df_curr_dr['state'],how='inner',on='state')\n",
    "rows=5\n",
    "cols=3\n",
    "states = df_curr_dr.state.tolist()\n",
    "fig = make_subplots(rows,cols,shared_xaxes=True,subplot_titles=states)\n",
    "for r in range(rows):\n",
    "    for c in range(0,cols):\n",
    "        ind = r*cols + c\n",
    "        df_s = df_dr[df_dr['state']==states[ind]]\n",
    "        fig.add_trace(go.Scatter(x=df_s['date'],y=np.abs(df_s['Doubling rate'])),r+1,c+1)\n",
    "        fig.update_xaxes(showline=False,ticks='',showgrid=True,gridcolor=colors['grid'],row=r+1,col=c+1)\n",
    "        fig.update_yaxes(showline=False,ticks='',showgrid=True,gridcolor=colors['grid'],tickfont=dict(size=8),row=r+1,col=c+1)\n",
    "fig.update_layout(template='simple_white',showlegend=False,margin=dict(t=100),\n",
    "                 title='<b>State-wise Doubling Rate variation</b><br>Top 15 States in terms of Total Confirmed Cases',\n",
    "                 width=700,paper_bgcolor=colors['bg'],plot_bgcolor=colors['bg'])\n",
    "fig.show()"
   ]
  },
  {
   "cell_type": "code",
   "execution_count": null,
   "metadata": {
    "_kg_hide-input": true,
    "execution": {
     "iopub.execute_input": "2020-09-10T13:06:19.919441Z",
     "iopub.status.busy": "2020-09-10T13:06:19.916313Z",
     "iopub.status.idle": "2020-09-10T13:06:29.806116Z",
     "shell.execute_reply": "2020-09-10T13:06:29.805408Z"
    },
    "papermill": {
     "duration": 9.919248,
     "end_time": "2020-09-10T13:06:29.806252",
     "exception": false,
     "start_time": "2020-09-10T13:06:19.887004",
     "status": "completed"
    },
    "tags": []
   },
   "outputs": [],
   "source": [
    "d = {}\n",
    "states = df.state.unique().tolist()\n",
    "for state in states:\n",
    "    if state!='Cases being reassigned to states':\n",
    "        data = gmaps.geocode(state)\n",
    "        if data:\n",
    "            d[state] = data[0]['geometry']['location']\n",
    "\n",
    "def get_coords(state):\n",
    "    if state!='Cases being reassigned to states':\n",
    "        lat = d[state]['lat']\n",
    "        lng = d[state]['lng']\n",
    "    else:\n",
    "        return (np.float('nan'),np.float('nan'))\n",
    "    return (lat,lng)"
   ]
  },
  {
   "cell_type": "code",
   "execution_count": null,
   "metadata": {
    "_kg_hide-input": true,
    "execution": {
     "iopub.execute_input": "2020-09-10T13:06:29.853776Z",
     "iopub.status.busy": "2020-09-10T13:06:29.851764Z",
     "iopub.status.idle": "2020-09-10T13:06:31.778570Z",
     "shell.execute_reply": "2020-09-10T13:06:31.779134Z"
    },
    "papermill": {
     "duration": 1.954485,
     "end_time": "2020-09-10T13:06:31.779286",
     "exception": false,
     "start_time": "2020-09-10T13:06:29.824801",
     "status": "completed"
    },
    "tags": []
   },
   "outputs": [],
   "source": [
    "df_map = df.copy()\n",
    "df_map['latitude'] = df_map.apply(lambda x: get_coords(x['state'])[0],axis=1)\n",
    "df_map['longitude'] = df_map.apply(lambda x: get_coords(x['state'])[1],axis=1)\n",
    "px.set_mapbox_access_token(secret_value_1)\n",
    "df_map['date'] = df_map['date'].astype('str')\n",
    "fig = px.scatter_mapbox(df_map,\n",
    "                        lat=\"latitude\",\n",
    "                        lon=\"longitude\",\n",
    "                        size=\"Confirmed\",\n",
    "                        color='Confirmed',\n",
    "                        mapbox_style='streets',\n",
    "                        color_continuous_scale=px.colors.cyclical.IceFire,\n",
    "                        range_color=(0, df_map['Confirmed'].max()),\n",
    "                        animation_frame='date',\n",
    "                        hover_name='state',\n",
    "                        hover_data=['Deaths','Cured'],\n",
    "                        zoom=2.5,\n",
    "                        size_max=50,\n",
    "                        title= 'India:Spread of COVID19')\n",
    "fig.show()"
   ]
  },
  {
   "cell_type": "code",
   "execution_count": null,
   "metadata": {
    "_kg_hide-input": true,
    "execution": {
     "iopub.execute_input": "2020-09-10T13:06:31.840911Z",
     "iopub.status.busy": "2020-09-10T13:06:31.840154Z",
     "iopub.status.idle": "2020-09-10T13:06:53.873907Z",
     "shell.execute_reply": "2020-09-10T13:06:53.581718Z"
    },
    "papermill": {
     "duration": 22.07099,
     "end_time": "2020-09-10T13:06:53.874053",
     "exception": false,
     "start_time": "2020-09-10T13:06:31.803063",
     "status": "completed"
    },
    "tags": []
   },
   "outputs": [],
   "source": [
    "def change_state_name(state):\n",
    "    if state == 'Odisha':\n",
    "        return 'Orissa'\n",
    "    elif state == 'Telengana':\n",
    "        return 'Telangana'\n",
    "    elif state == 'Andaman and Nicobar Islands':\n",
    "        return 'Andaman and Nicobar'\n",
    "    return state\n",
    "r = requests.get(url='https://raw.githubusercontent.com/geohacker/india/master/state/india_telengana.geojson')\n",
    "geojson = r.json()\n",
    "df_map['state'] = df_map.apply(lambda x: change_state_name(x['state']), axis=1)\n",
    "last_date = df_map.date.max()\n",
    "df_map = df_map[df_map['date']==last_date]\n",
    "fig = px.choropleth_mapbox(df_map, geojson=geojson, color=\"Confirmed\",\n",
    "                    locations=\"state\", featureidkey=\"properties.NAME_1\",\n",
    "                    hover_name='state',\n",
    "                    hover_data=['Cured','Deaths'],\n",
    "                    center={\"lat\": 20.5937, \"lon\": 78.9629},\n",
    "                    mapbox_style=\"carto-positron\",\n",
    "                    zoom=2.75,\n",
    "                    color_continuous_scale=px.colors.qualitative.Vivid,\n",
    "                    title='Total Cases per State'\n",
    "                   )\n",
    "fig.update_geos(fitbounds=\"locations\", visible=True)\n",
    "fig.update_geos(projection_type=\"orthographic\")\n",
    "fig.show()"
   ]
  },
  {
   "cell_type": "code",
   "execution_count": null,
   "metadata": {
    "_kg_hide-input": true,
    "execution": {
     "iopub.execute_input": "2020-09-10T13:06:54.386712Z",
     "iopub.status.busy": "2020-09-10T13:06:54.386026Z",
     "iopub.status.idle": "2020-09-10T13:07:26.383752Z",
     "shell.execute_reply": "2020-09-10T13:07:25.345183Z"
    },
    "papermill": {
     "duration": 32.26685,
     "end_time": "2020-09-10T13:07:26.383931",
     "exception": false,
     "start_time": "2020-09-10T13:06:54.117081",
     "status": "completed"
    },
    "tags": []
   },
   "outputs": [],
   "source": [
    "df_ind_det = pd.read_csv('/kaggle/input/covid19-in-india/IndividualDetails.csv')\n",
    "r = requests.get(url='https://raw.githubusercontent.com/geohacker/india/master/district/india_district.geojson')\n",
    "geojson = r.json()\n",
    "df_dist = df_ind_det.groupby('detected_district',as_index=False)['id'].count()\n",
    "df_dist.rename(columns={'detected_district':'District','id':'Cases Reported'},inplace=True)\n",
    "fig = px.choropleth_mapbox(df_dist, geojson=geojson, color=\"Cases Reported\",\n",
    "                    locations=\"District\", featureidkey=\"properties.NAME_2\",\n",
    "                    hover_name='District',\n",
    "                    center={\"lat\": 20.5937, \"lon\": 78.9629},\n",
    "                    mapbox_style=\"carto-positron\",\n",
    "                    zoom=2.75,\n",
    "                    color_continuous_scale=px.colors.qualitative.Vivid,\n",
    "                    title='Total Cases per District'\n",
    "                   )\n",
    "fig.update_geos(fitbounds=\"locations\", visible=True)\n",
    "fig.update_geos(projection_type=\"orthographic\")\n",
    "fig = make_538(fig,title='Total Cases per District')\n",
    "fig.show()"
   ]
  },
  {
   "cell_type": "code",
   "execution_count": null,
   "metadata": {
    "_kg_hide-input": true,
    "execution": {
     "iopub.execute_input": "2020-09-10T13:07:27.563161Z",
     "iopub.status.busy": "2020-09-10T13:07:27.562405Z",
     "iopub.status.idle": "2020-09-10T13:07:27.668202Z",
     "shell.execute_reply": "2020-09-10T13:07:27.668724Z"
    },
    "papermill": {
     "duration": 0.708793,
     "end_time": "2020-09-10T13:07:27.668908",
     "exception": false,
     "start_time": "2020-09-10T13:07:26.960115",
     "status": "completed"
    },
    "tags": []
   },
   "outputs": [],
   "source": [
    "df_zone = pd.read_csv('/kaggle/input/covid19indiazones/India-District-Zones.csv')\n",
    "df_zone = df_zone.groupby(['State','Zone'],as_index=False)['District'].count()\n",
    "df_zone.sort_values('District',inplace=True)\n",
    "fig = go.Figure()\n",
    "df_g = df_zone[df_zone['Zone']=='Green Zone']\n",
    "fig.add_trace(go.Bar(name='Green zone',x=df_g['State'],y=df_g['District'], marker_color='Green',\n",
    "                    marker_line_color='black',marker_line_width=1.5))\n",
    "df_o = df_zone[df_zone['Zone']=='Orange Zone']\n",
    "fig.add_trace(go.Bar(name='Orange zone',x=df_o['State'],y=df_o['District'], marker_color='Orange',\n",
    "                    marker_line_color='black',marker_line_width=1.5))\n",
    "df_r = df_zone[df_zone['Zone']=='Red Zone']\n",
    "fig.add_trace(go.Bar(name='Red zone',x=df_r['State'],y=df_r['District'], marker_color='Red',\n",
    "                    marker_line_color='black',marker_line_width=1.5))\n",
    "fig.update_layout(barmode='stack')\n",
    "fig = make_538(fig,title='<b>Number of Zones per State from 4th May</b><br>Specific to Lockdown 3.0',\n",
    "               margin=dict(l=0,r=0,t=50,b=170))\n",
    "fig.show()"
   ]
  },
  {
   "cell_type": "markdown",
   "metadata": {
    "papermill": {
     "duration": 0.583847,
     "end_time": "2020-09-10T13:07:28.851375",
     "exception": false,
     "start_time": "2020-09-10T13:07:28.267528",
     "status": "completed"
    },
    "tags": []
   },
   "source": [
    "### <a id='test'> Testing in India</a>"
   ]
  },
  {
   "cell_type": "code",
   "execution_count": null,
   "metadata": {
    "_kg_hide-input": true,
    "execution": {
     "iopub.execute_input": "2020-09-10T13:07:29.993669Z",
     "iopub.status.busy": "2020-09-10T13:07:29.992904Z",
     "iopub.status.idle": "2020-09-10T13:07:30.091560Z",
     "shell.execute_reply": "2020-09-10T13:07:30.092180Z"
    },
    "papermill": {
     "duration": 0.671166,
     "end_time": "2020-09-10T13:07:30.092331",
     "exception": false,
     "start_time": "2020-09-10T13:07:29.421165",
     "status": "completed"
    },
    "tags": []
   },
   "outputs": [],
   "source": [
    "df_lab = pd.read_csv('/kaggle/input/icmrtestinglabs/ICMRTestingLabsWithCoords.csv')\n",
    "fig = px.scatter_mapbox(df_lab,\n",
    "                        lat=\"latitude\",\n",
    "                        lon=\"longitude\",\n",
    "                        mapbox_style='streets',\n",
    "                        hover_name='lab',\n",
    "                        hover_data=['city','state','pincode'],\n",
    "                        zoom=2.5,\n",
    "                        size_max=15,\n",
    "                        title= 'COVID19 Testing Labs in India')\n",
    "fig.show()"
   ]
  },
  {
   "cell_type": "code",
   "execution_count": null,
   "metadata": {
    "_kg_hide-input": true,
    "execution": {
     "iopub.execute_input": "2020-09-10T13:07:31.282435Z",
     "iopub.status.busy": "2020-09-10T13:07:31.281682Z",
     "iopub.status.idle": "2020-09-10T13:07:31.940396Z",
     "shell.execute_reply": "2020-09-10T13:07:31.940919Z"
    },
    "papermill": {
     "duration": 1.283738,
     "end_time": "2020-09-10T13:07:31.941085",
     "exception": false,
     "start_time": "2020-09-10T13:07:30.657347",
     "status": "completed"
    },
    "tags": []
   },
   "outputs": [],
   "source": [
    "def add_text(ax,fontsize=12):\n",
    "    for p in ax.patches:\n",
    "        x=p.get_bbox().get_points()[:,0]\n",
    "        y=p.get_bbox().get_points()[1,1]\n",
    "        ax.annotate('{}'.format(int(y)), (x.mean(), y), ha='center', va='bottom',size=fontsize)\n",
    "        \n",
    "plt.figure(figsize=(16,6))\n",
    "ax = sns.countplot(data=df_lab,x='state',color='salmon',order = df_lab['state'].value_counts().index)\n",
    "add_text(ax)\n",
    "ax.set_xticklabels(ax.get_xticklabels(), rotation=40, ha=\"right\",size=10)\n",
    "ax.set_xlabel('')\n",
    "ax.set_ylabel('')\n",
    "ax.set_title('Number of COVID19 testing labs per State/Union Territory')\n",
    "plt.tight_layout()\n",
    "plt.show()"
   ]
  },
  {
   "cell_type": "code",
   "execution_count": null,
   "metadata": {
    "_kg_hide-input": true,
    "execution": {
     "iopub.execute_input": "2020-09-10T13:07:33.452905Z",
     "iopub.status.busy": "2020-09-10T13:07:33.452180Z",
     "iopub.status.idle": "2020-09-10T13:07:33.617421Z",
     "shell.execute_reply": "2020-09-10T13:07:33.617980Z"
    },
    "papermill": {
     "duration": 0.793069,
     "end_time": "2020-09-10T13:07:33.618124",
     "exception": false,
     "start_time": "2020-09-10T13:07:32.825055",
     "status": "completed"
    },
    "tags": []
   },
   "outputs": [],
   "source": [
    "df_tes_st = pd.read_csv('/kaggle/input/covid19-in-india/StatewiseTestingDetails.csv')\n",
    "fig = go.Figure()\n",
    "for state in df_tes_st.State.unique():\n",
    "    df_s = df_tes_st[df_tes_st['State']==state]\n",
    "    fig.add_trace(go.Scatter(x=df_s['Date'],y=df_s['TotalSamples'],mode='lines',name=state))\n",
    "    #fig.add_trace(go.Bar(x=df_s['Date'],y=df_s['Positive']))\n",
    "fig = make_538(fig,height=500,title='State-wise number of tests')\n",
    "fig.show()"
   ]
  },
  {
   "cell_type": "markdown",
   "metadata": {
    "papermill": {
     "duration": 0.593052,
     "end_time": "2020-09-10T13:07:34.821506",
     "exception": false,
     "start_time": "2020-09-10T13:07:34.228454",
     "status": "completed"
    },
    "tags": []
   },
   "source": [
    "### <a id='state'> Statewise Analysis</a>"
   ]
  },
  {
   "cell_type": "code",
   "execution_count": null,
   "metadata": {
    "_kg_hide-input": true,
    "execution": {
     "iopub.execute_input": "2020-09-10T13:07:35.972204Z",
     "iopub.status.busy": "2020-09-10T13:07:35.971175Z",
     "iopub.status.idle": "2020-09-10T13:07:36.032819Z",
     "shell.execute_reply": "2020-09-10T13:07:36.032064Z"
    },
    "papermill": {
     "duration": 0.639654,
     "end_time": "2020-09-10T13:07:36.032969",
     "exception": false,
     "start_time": "2020-09-10T13:07:35.393315",
     "status": "completed"
    },
    "tags": []
   },
   "outputs": [],
   "source": [
    "df_pop = pd.read_csv('/kaggle/input/covid19-in-india/population_india_census2011.csv')\n",
    "df_bed = pd.read_csv('/kaggle/input/covid19-in-india/HospitalBedsIndia.csv')\n",
    "df_test = pd.read_csv('/kaggle/input/covid19-in-india/StatewiseTestingDetails.csv',parse_dates=True)\n",
    "df_bed['Total beds'] = df_bed.NumPublicBeds_HMIS + df_bed.NumRuralBeds_NHP18 + df_bed.NumUrbanBeds_NHP18"
   ]
  },
  {
   "cell_type": "code",
   "execution_count": null,
   "metadata": {
    "_kg_hide-input": true,
    "execution": {
     "iopub.execute_input": "2020-09-10T13:07:37.437990Z",
     "iopub.status.busy": "2020-09-10T13:07:37.437059Z",
     "iopub.status.idle": "2020-09-10T13:07:37.441146Z",
     "shell.execute_reply": "2020-09-10T13:07:37.440613Z"
    },
    "papermill": {
     "duration": 0.836566,
     "end_time": "2020-09-10T13:07:37.441277",
     "exception": false,
     "start_time": "2020-09-10T13:07:36.604711",
     "status": "completed"
    },
    "tags": []
   },
   "outputs": [],
   "source": [
    "def get_area(s):\n",
    "    if pd.isnull(s):\n",
    "        return s\n",
    "    temp = re.findall(r'\\d+.?\\d+', s)\n",
    "    temp = [x.replace(',','') for x in temp]\n",
    "    res = list(map(int, temp))\n",
    "    return res\n",
    "\n",
    "def get_density(s):\n",
    "    if pd.isnull(s):\n",
    "        return s\n",
    "    temp = re.findall(r'\\d+[.\\.]?\\d+', s)\n",
    "    temp = [x.replace(',','') for x in temp]\n",
    "    res = list(map(float, temp))\n",
    "    return res"
   ]
  },
  {
   "cell_type": "code",
   "execution_count": null,
   "metadata": {
    "_kg_hide-input": true,
    "execution": {
     "iopub.execute_input": "2020-09-10T13:07:38.640707Z",
     "iopub.status.busy": "2020-09-10T13:07:38.639680Z",
     "iopub.status.idle": "2020-09-10T13:07:38.749388Z",
     "shell.execute_reply": "2020-09-10T13:07:38.749904Z"
    },
    "papermill": {
     "duration": 0.711861,
     "end_time": "2020-09-10T13:07:38.750049",
     "exception": false,
     "start_time": "2020-09-10T13:07:38.038188",
     "status": "completed"
    },
    "tags": []
   },
   "outputs": [],
   "source": [
    "df_latest = df[df['date']==df.date.max()]\n",
    "df_latest = df_latest.merge(df_pop,how='left',left_on='state',right_on='State / Union Territory')\n",
    "df_latest = df_latest.merge(df_bed,how='left',left_on='state',right_on='State/UT')\n",
    "df_latest = df_latest[['state','Cured','Deaths','Confirmed','Population','Rural population','Area','Density','Gender Ratio','Total beds','TotalPublicHealthFacilities_HMIS']]\n",
    "df_latest = df_latest[df_latest['state']!='Cases being reassigned to states']\n",
    "df_latest.drop([7,30],inplace=True)\n",
    "df_latest['Area(sq km)'] = df_latest.apply(lambda x:get_area(x['Area'])[0],axis=1)\n",
    "df_latest['Area(sq miles)'] = df_latest.apply(lambda x:get_area(x['Area'])[1],axis=1)\n",
    "df_latest['Density(sq km)'] = df_latest.apply(lambda x:get_density(x['Density'])[0],axis=1)\n",
    "df_latest['Density(sq miles)'] = df_latest.apply(lambda x:get_density(x['Density'])[1],axis=1)\n",
    "df_latest.drop(['Area','Density'],axis=1,inplace=True)\n",
    "df_latest.rename(columns={'state':'State'},inplace=True)\n",
    "df_latest['Cases/million'] = round((df_latest.Confirmed/df_latest.Population)*1000000).astype(int)\n",
    "df_latest.fillna(0,inplace=True)\n",
    "df_latest['Beds/million'] = round((df_latest['Total beds']/df_latest.Population)*1000000).astype(int)\n",
    "df_latest['Health Facilities/100sq.km'] = round((df_latest['TotalPublicHealthFacilities_HMIS']/df_latest['Area(sq km)'])*1000).astype(int)\n",
    "df_latest['Mortality Rate %'] = np.round((df_latest.Deaths/df_latest.Confirmed)*100,2)\n",
    "df_latest['Recovery Rate %'] = np.round((df_latest.Cured/df_latest.Confirmed)*100,2)\n",
    "df_latest.sort_values('Confirmed',ascending=False,inplace=True)\n",
    "df_latest.reset_index(inplace=True,drop=True)\n",
    "\n",
    "df_table = df_latest[['State','Cured','Deaths','Confirmed','Mortality Rate %','Recovery Rate %','Cases/million','Beds/million','Health Facilities/100sq.km']]\n",
    "(df_table.style\n",
    " .background_gradient(cmap='Blues',subset=['Confirmed','Cases/million','Beds/million','Health Facilities/100sq.km'])\n",
    " .background_gradient(cmap='Greens', subset=['Cured','Recovery Rate %'])\n",
    " .background_gradient(cmap='Reds', subset=['Deaths','Mortality Rate %'])\n",
    " .set_caption('COVID19: Statistics about India')\n",
    " .set_table_styles(styles))"
   ]
  },
  {
   "cell_type": "markdown",
   "metadata": {
    "papermill": {
     "duration": 0.570569,
     "end_time": "2020-09-10T13:07:39.901827",
     "exception": false,
     "start_time": "2020-09-10T13:07:39.331258",
     "status": "completed"
    },
    "tags": []
   },
   "source": [
    "### <a id='pop'> Effect of Population Density on the spread</a>"
   ]
  },
  {
   "cell_type": "code",
   "execution_count": null,
   "metadata": {
    "_kg_hide-input": true,
    "execution": {
     "iopub.execute_input": "2020-09-10T13:07:41.049790Z",
     "iopub.status.busy": "2020-09-10T13:07:41.048769Z",
     "iopub.status.idle": "2020-09-10T13:07:41.726625Z",
     "shell.execute_reply": "2020-09-10T13:07:41.727160Z"
    },
    "papermill": {
     "duration": 1.256203,
     "end_time": "2020-09-10T13:07:41.727309",
     "exception": false,
     "start_time": "2020-09-10T13:07:40.471106",
     "status": "completed"
    },
    "tags": []
   },
   "outputs": [],
   "source": [
    "rows = 1\n",
    "cols = 3\n",
    "fig = make_subplots(rows=rows,cols=cols,shared_yaxes=True,horizontal_spacing=0.03,\n",
    "                    subplot_titles=['Cases','Deaths','Recoveries'])\n",
    "d_cols = {1:'Confirmed',2:'Deaths',3:'Cured'}\n",
    "colors = plotly.colors.DEFAULT_PLOTLY_COLORS\n",
    "for c in range(1,4):\n",
    "    for i,state in enumerate(df_latest.State.unique().tolist()):\n",
    "        group = df_latest[df_latest['State']==state]\n",
    "        fig.append_trace(go.Scatter(\n",
    "            name = state,\n",
    "            x = group[d_cols[c]],\n",
    "            y = group['Density(sq km)'],\n",
    "            mode = 'markers',\n",
    "            marker = dict(\n",
    "                color = colors[i%len(colors)],\n",
    "                size = group['Population']/(5*10**6)\n",
    "            ),\n",
    "            legendgroup = state,\n",
    "            showlegend = True if c==1 else False,\n",
    "            text= '<b>'+state.upper()+'</b><br>'+\n",
    "                  '<b>Population: </b>'+ group['Population'].astype(str) +'<br>'+\n",
    "                  '<b>'+d_cols[c]+': </b>'+ group[d_cols[c]].astype(str) +'<br>'+\n",
    "                  '<b>Pop. Density: </b>'+ group['Density(sq km)'].astype(str) +'<br>',\n",
    "            hoverinfo = 'text',\n",
    "        ),1,c)\n",
    "        fig.update_xaxes(tickfont=dict(size=8),row=1,col=c)\n",
    "fig.update_yaxes(title_text='Population Density(per sq km)',row=1,col=1)\n",
    "fig.update_layout(width=700,height=400,title=\"States' Population Density Analysis\",\n",
    "                 margin=dict(t=70,b=0,r=10,l=0), \n",
    "                 legend=dict(title='State/Union Territory',font=dict(size=8))) \n",
    "fig.show()"
   ]
  },
  {
   "cell_type": "code",
   "execution_count": null,
   "metadata": {
    "_kg_hide-input": true,
    "execution": {
     "iopub.execute_input": "2020-09-10T13:07:46.124115Z",
     "iopub.status.busy": "2020-09-10T13:07:46.123324Z",
     "iopub.status.idle": "2020-09-10T13:07:51.855415Z",
     "shell.execute_reply": "2020-09-10T13:07:51.854647Z"
    },
    "papermill": {
     "duration": 6.328152,
     "end_time": "2020-09-10T13:07:51.855534",
     "exception": false,
     "start_time": "2020-09-10T13:07:45.527382",
     "status": "completed"
    },
    "tags": []
   },
   "outputs": [],
   "source": [
    "df_states = df.copy()\n",
    "def add_days(df,new_col,basis):\n",
    "    states = {}\n",
    "    df[new_col] = 0\n",
    "    for i in range(len(df_states)):\n",
    "        if df_states.loc[i,'state'] in states:\n",
    "            df_states.loc[i,new_col] = (df_states.loc[i,'date'] - states[df_states.loc[i,'state']]).days\n",
    "        else:\n",
    "            if df_states.loc[i,basis] > 0:\n",
    "                states[df_states.loc[i,'state']] = df_states.loc[i,'date']\n",
    "    return df\n",
    "df_states = add_days(df_states,'day_since_inf','Confirmed')\n",
    "df_states = add_days(df_states,'day_since_death','Deaths')\n",
    "df_states = add_days(df_states,'day_since_cure','Cured')"
   ]
  },
  {
   "cell_type": "code",
   "execution_count": null,
   "metadata": {
    "_kg_hide-input": true,
    "execution": {
     "iopub.execute_input": "2020-09-10T13:07:53.076462Z",
     "iopub.status.busy": "2020-09-10T13:07:53.064281Z",
     "iopub.status.idle": "2020-09-10T13:07:54.220683Z",
     "shell.execute_reply": "2020-09-10T13:07:54.221498Z"
    },
    "papermill": {
     "duration": 1.760793,
     "end_time": "2020-09-10T13:07:54.221715",
     "exception": false,
     "start_time": "2020-09-10T13:07:52.460922",
     "status": "completed"
    },
    "tags": []
   },
   "outputs": [],
   "source": [
    "rows = 1\n",
    "cols = 3\n",
    "fig = make_subplots(rows=rows,cols=cols,\n",
    "                    subplot_titles=['Cases','Deaths','Recoveries'])\n",
    "d_cols = {1:'Confirmed',2:'Deaths',3:'Cured'}\n",
    "colors = plotly.colors.DEFAULT_PLOTLY_COLORS\n",
    "for c in range(1,4):\n",
    "    for i,state in enumerate(df_states.state.unique().tolist()):\n",
    "        group = df_states[df_states['state']==state]\n",
    "        fig.append_trace(go.Scatter(\n",
    "            name = state,\n",
    "            y = group[d_cols[c]],\n",
    "            x = group['day_since_inf'],\n",
    "            mode = 'lines',\n",
    "            line = dict(\n",
    "                color = colors[i%len(colors)],\n",
    "            ),\n",
    "            legendgroup = state,\n",
    "            showlegend = True if c==1 else False,\n",
    "            text= '<b>'+state.upper()+'</b><br>'+\n",
    "                   '<b>Day: </b>'+ group['day_since_inf'].astype(str) +'<br>'+\n",
    "                   '<b>'+d_cols[c]+': </b>'+ group[d_cols[c]].astype(str) +'<br>',\n",
    "            hoverinfo = 'text',\n",
    "        ),1,c)\n",
    "        fig.update_xaxes(tickfont=dict(size=8),row=1,col=c)\n",
    "        fig.update_yaxes(tickfont=dict(size=8),row=1,col=c)\n",
    "fig.update_yaxes(title_text='Confirmed Numbers',row=1,col=1)\n",
    "fig.update_xaxes(title_text='Days since first infection was reported',row=1,col=2)\n",
    "fig.update_layout(width=700,height=400,\n",
    "                title=\"<b>States' Trend Analysis</b><br>Cumulative Statistics over time\",\n",
    "                 margin=dict(t=100,b=0,r=10,l=0), \n",
    "                 legend=dict(title='State/Union Territory',font=dict(size=8))) \n",
    "fig.show()"
   ]
  },
  {
   "cell_type": "markdown",
   "metadata": {
    "papermill": {
     "duration": 0.625528,
     "end_time": "2020-09-10T13:07:55.496524",
     "exception": false,
     "start_time": "2020-09-10T13:07:54.870996",
     "status": "completed"
    },
    "tags": []
   },
   "source": [
    "In the below three plots, I'm plotting the 7-day rolling mean of daily cases, deaths and recoveries reported against the day it's first instance was reported."
   ]
  },
  {
   "cell_type": "code",
   "execution_count": null,
   "metadata": {
    "_kg_hide-input": true,
    "execution": {
     "iopub.execute_input": "2020-09-10T13:07:56.753673Z",
     "iopub.status.busy": "2020-09-10T13:07:56.752984Z",
     "iopub.status.idle": "2020-09-10T13:08:02.745290Z",
     "shell.execute_reply": "2020-09-10T13:08:02.744242Z"
    },
    "papermill": {
     "duration": 6.624844,
     "end_time": "2020-09-10T13:08:02.745412",
     "exception": false,
     "start_time": "2020-09-10T13:07:56.120568",
     "status": "completed"
    },
    "tags": []
   },
   "outputs": [],
   "source": [
    "df_states.sort_values(by=['state','date'],inplace=True)\n",
    "df_states.reset_index(inplace=True,drop=True)\n",
    "df_states_daily = add_daily_measures(df_states)\n",
    "df_states_daily.fillna(0,inplace=True)"
   ]
  },
  {
   "cell_type": "code",
   "execution_count": null,
   "metadata": {
    "_kg_hide-input": true,
    "execution": {
     "iopub.execute_input": "2020-09-10T13:08:03.989081Z",
     "iopub.status.busy": "2020-09-10T13:08:03.987675Z",
     "iopub.status.idle": "2020-09-10T13:08:04.277739Z",
     "shell.execute_reply": "2020-09-10T13:08:04.278283Z"
    },
    "papermill": {
     "duration": 0.918259,
     "end_time": "2020-09-10T13:08:04.278469",
     "exception": false,
     "start_time": "2020-09-10T13:08:03.360210",
     "status": "completed"
    },
    "tags": []
   },
   "outputs": [],
   "source": [
    "states = df_states_daily['state'].unique().tolist()\n",
    "df_roll = pd.DataFrame()\n",
    "for state in states:\n",
    "    df_state = df_states_daily[df_states_daily['state']==state]\n",
    "    df_state['roll_avg_c'] = np.round(df_state['Daily Cases'].rolling(7).mean())\n",
    "    df_state['roll_avg_d'] = np.round(df_state['Daily Deaths'].rolling(7).mean())\n",
    "    df_state['roll_avg_r'] = np.round(df_state['Daily Cured'].rolling(7).mean())\n",
    "    df_roll = df_roll.append(df_state,ignore_index=True)"
   ]
  },
  {
   "cell_type": "code",
   "execution_count": null,
   "metadata": {
    "_kg_hide-input": true,
    "execution": {
     "iopub.execute_input": "2020-09-10T13:08:05.557332Z",
     "iopub.status.busy": "2020-09-10T13:08:05.556213Z",
     "iopub.status.idle": "2020-09-10T13:08:06.713242Z",
     "shell.execute_reply": "2020-09-10T13:08:06.713844Z"
    },
    "papermill": {
     "duration": 1.827615,
     "end_time": "2020-09-10T13:08:06.714026",
     "exception": false,
     "start_time": "2020-09-10T13:08:04.886411",
     "status": "completed"
    },
    "tags": []
   },
   "outputs": [],
   "source": [
    "rows = 1\n",
    "cols = 3\n",
    "fig = make_subplots(rows=rows,cols=cols,\n",
    "                    subplot_titles=['Cases','Deaths','Recoveries'])\n",
    "d_cols = {1:'roll_avg_c',2:'roll_avg_d',3:'roll_avg_c'}\n",
    "colors = plotly.colors.DEFAULT_PLOTLY_COLORS\n",
    "for c in range(1,4):\n",
    "    for i,state in enumerate(df_roll.state.unique().tolist()):\n",
    "        group = df_roll[df_roll['state']==state]\n",
    "        fig.append_trace(go.Scatter(\n",
    "            name = state,\n",
    "            y = group[d_cols[c]],\n",
    "            x = group['day_since_inf'],\n",
    "            mode = 'lines',\n",
    "            line = dict(\n",
    "                color = colors[i%len(colors)],\n",
    "            ),\n",
    "            legendgroup = state,\n",
    "            showlegend = True if c==1 else False,\n",
    "            text= '<b>'+state.upper()+'</b><br>'+\n",
    "                   '<b>Day: </b>'+ group['day_since_inf'].astype(str) +'<br>'+\n",
    "                   '<b>'+d_cols[c]+': </b>'+ group[d_cols[c]].astype(str) +'<br>',\n",
    "            hoverinfo = 'text',\n",
    "        ),1,c)\n",
    "        fig.update_xaxes(tickfont=dict(size=8),row=1,col=c)\n",
    "        fig.update_yaxes(tickfont=dict(size=8),row=1,col=c)\n",
    "fig.update_yaxes(title_text='Confirmed Numbers(7-Day Rolling average)',\n",
    "                 title_font_size=10,row=1,col=1)\n",
    "fig.update_xaxes(title_text='Days since first infection was reported',row=1,col=2)\n",
    "fig.update_layout(width=700,height=400,\n",
    "                title=\"<b>States' Trend Analysis</b><br>7-Day Rolling average Statistics\",\n",
    "                 margin=dict(t=100,b=0,r=10,l=0), \n",
    "                 legend=dict(title='State/Union Territory',font=dict(size=8))) \n",
    "fig.show()"
   ]
  },
  {
   "cell_type": "markdown",
   "metadata": {
    "papermill": {
     "duration": 0.930255,
     "end_time": "2020-09-10T13:08:45.607584",
     "exception": false,
     "start_time": "2020-09-10T13:08:44.677329",
     "status": "completed"
    },
    "tags": []
   },
   "source": [
    "### <a id='top'> Top 5 worst affected states</a>"
   ]
  },
  {
   "cell_type": "code",
   "execution_count": null,
   "metadata": {
    "_kg_hide-input": true,
    "_kg_hide-output": false,
    "execution": {
     "iopub.execute_input": "2020-09-10T13:08:47.490592Z",
     "iopub.status.busy": "2020-09-10T13:08:47.489606Z",
     "iopub.status.idle": "2020-09-10T13:08:47.499857Z",
     "shell.execute_reply": "2020-09-10T13:08:47.500455Z"
    },
    "papermill": {
     "duration": 0.962419,
     "end_time": "2020-09-10T13:08:47.500594",
     "exception": false,
     "start_time": "2020-09-10T13:08:46.538175",
     "status": "completed"
    },
    "tags": []
   },
   "outputs": [],
   "source": [
    "n = 5\n",
    "df_curr = df_states[df_states['date']==df_states.date.max()]\n",
    "states = df_curr.nlargest(n,'Confirmed')['state'].values.tolist()"
   ]
  },
  {
   "cell_type": "code",
   "execution_count": null,
   "metadata": {
    "_kg_hide-input": true,
    "execution": {
     "iopub.execute_input": "2020-09-10T13:08:49.606697Z",
     "iopub.status.busy": "2020-09-10T13:08:49.598986Z",
     "iopub.status.idle": "2020-09-10T13:08:49.610103Z",
     "shell.execute_reply": "2020-09-10T13:08:49.609405Z"
    },
    "papermill": {
     "duration": 1.182075,
     "end_time": "2020-09-10T13:08:49.610220",
     "exception": false,
     "start_time": "2020-09-10T13:08:48.428145",
     "status": "completed"
    },
    "tags": []
   },
   "outputs": [],
   "source": [
    "def plot_state(state=state):\n",
    "    df_state = df_states[df_states['state']==state]\n",
    "    df_state['roll_avg_c'] = df_state['Daily Cases'].rolling(7).mean()\n",
    "    df_state['roll_avg_d'] = df_state['Daily Deaths'].rolling(7).mean()\n",
    "    df_state['roll_avg_r'] = df_state['Daily Cured'].rolling(7).mean()\n",
    "    fig = go.Figure()\n",
    "    fig.add_trace(go.Bar(name='Cases',x=df_state['date'],y=df_state['Daily Cases'],marker_color='royalblue',yaxis='y'))\n",
    "    fig.add_trace(go.Scatter(name='7-day rolling avg',x=df_state['date'],y=df_state['roll_avg_c'],marker_color='black',yaxis='y'))\n",
    "    fig.add_trace(go.Bar(name='Deaths',x=df_state['date'],y=df_state['Daily Deaths'],marker_color='crimson',yaxis='y2'))\n",
    "    fig.add_trace(go.Scatter(name='7-day rolling avg',x=df_state['date'],y=df_state['roll_avg_d'],marker_color='black',yaxis='y2'))\n",
    "    fig.add_trace(go.Bar(name='Recoveries',x=df_state['date'],y=df_state['Daily Cured'],marker_color='limegreen',yaxis='y3'))\n",
    "    fig.add_trace(go.Scatter(name='7-day rolling avg',x=df_state['date'],y=df_state['roll_avg_r'],marker_color='black',yaxis='y3'))\n",
    "    # Update axes\n",
    "    fig.update_layout(\n",
    "        xaxis=dict(\n",
    "        autorange=True,\n",
    "        rangeslider=dict(\n",
    "            autorange=True,\n",
    "        ),\n",
    "        type=\"date\"\n",
    "    ),\n",
    "    yaxis=dict(\n",
    "        anchor=\"x\",\n",
    "        autorange=True,\n",
    "        domain=[0, 0.3],\n",
    "        linecolor=\"royalblue\",\n",
    "        mirror=True,\n",
    "        showline=True,\n",
    "        side=\"right\",\n",
    "        tickfont={\"color\": \"royalblue\"},\n",
    "        tickmode=\"auto\",\n",
    "        ticks=\"\",\n",
    "        title='Cases',\n",
    "        titlefont={\"color\": \"royalblue\",\"size\":10},\n",
    "        type=\"linear\",\n",
    "        zeroline=False\n",
    "    ),\n",
    "    yaxis2=dict(\n",
    "        anchor=\"x\",\n",
    "        autorange=True,\n",
    "        domain=[0.35, 0.65],\n",
    "        linecolor=\"crimson\",\n",
    "        mirror=True,\n",
    "        showline=True,\n",
    "        side=\"right\",\n",
    "        tickfont={\"color\": \"crimson\"},\n",
    "        tickmode=\"auto\",\n",
    "        ticks=\"\",\n",
    "        title = 'Deaths',\n",
    "        titlefont={\"color\": \"crimson\",\"size\":10},\n",
    "        type=\"linear\",\n",
    "        zeroline=False\n",
    "    ),\n",
    "    yaxis3=dict(\n",
    "        anchor=\"x\",\n",
    "        autorange=True,\n",
    "        domain=[0.7, 1],\n",
    "        linecolor=\"limegreen\",\n",
    "        mirror=True,\n",
    "        showline=True,\n",
    "        side=\"right\",\n",
    "        tickfont={\"color\": \"limegreen\"},\n",
    "        tickmode=\"auto\",\n",
    "        ticks=\"\",\n",
    "        title=\"Recoveries\",\n",
    "        titlefont={\"color\": \"limegreen\",\"size\":10},\n",
    "        type=\"linear\",\n",
    "        zeroline=False\n",
    "    )\n",
    "    )\n",
    "    fig.update_layout(title=state,showlegend=False,template='plotly_white')\n",
    "    fig.show()"
   ]
  },
  {
   "cell_type": "code",
   "execution_count": null,
   "metadata": {
    "_kg_hide-input": true,
    "execution": {
     "iopub.execute_input": "2020-09-10T13:08:52.044772Z",
     "iopub.status.busy": "2020-09-10T13:08:52.044081Z",
     "iopub.status.idle": "2020-09-10T13:08:52.166765Z",
     "shell.execute_reply": "2020-09-10T13:08:52.166129Z"
    },
    "papermill": {
     "duration": 1.046814,
     "end_time": "2020-09-10T13:08:52.166892",
     "exception": false,
     "start_time": "2020-09-10T13:08:51.120078",
     "status": "completed"
    },
    "tags": []
   },
   "outputs": [],
   "source": [
    "plot_state(states[0])"
   ]
  },
  {
   "cell_type": "code",
   "execution_count": null,
   "metadata": {
    "_kg_hide-input": true,
    "execution": {
     "iopub.execute_input": "2020-09-10T13:08:54.030803Z",
     "iopub.status.busy": "2020-09-10T13:08:54.030174Z",
     "iopub.status.idle": "2020-09-10T13:08:54.134501Z",
     "shell.execute_reply": "2020-09-10T13:08:54.135037Z"
    },
    "papermill": {
     "duration": 1.035631,
     "end_time": "2020-09-10T13:08:54.135187",
     "exception": false,
     "start_time": "2020-09-10T13:08:53.099556",
     "status": "completed"
    },
    "tags": []
   },
   "outputs": [],
   "source": [
    "plot_state(states[1])"
   ]
  },
  {
   "cell_type": "code",
   "execution_count": null,
   "metadata": {
    "_kg_hide-input": true,
    "execution": {
     "iopub.execute_input": "2020-09-10T13:08:55.926133Z",
     "iopub.status.busy": "2020-09-10T13:08:55.925472Z",
     "iopub.status.idle": "2020-09-10T13:08:56.039392Z",
     "shell.execute_reply": "2020-09-10T13:08:56.038768Z"
    },
    "papermill": {
     "duration": 1.026677,
     "end_time": "2020-09-10T13:08:56.039516",
     "exception": false,
     "start_time": "2020-09-10T13:08:55.012839",
     "status": "completed"
    },
    "tags": []
   },
   "outputs": [],
   "source": [
    "plot_state(states[2])"
   ]
  },
  {
   "cell_type": "code",
   "execution_count": null,
   "metadata": {
    "_kg_hide-input": true,
    "execution": {
     "iopub.execute_input": "2020-09-10T13:08:57.881706Z",
     "iopub.status.busy": "2020-09-10T13:08:57.881060Z",
     "iopub.status.idle": "2020-09-10T13:08:57.981994Z",
     "shell.execute_reply": "2020-09-10T13:08:57.982585Z"
    },
    "papermill": {
     "duration": 1.031775,
     "end_time": "2020-09-10T13:08:57.982723",
     "exception": false,
     "start_time": "2020-09-10T13:08:56.950948",
     "status": "completed"
    },
    "tags": []
   },
   "outputs": [],
   "source": [
    "plot_state(states[3])"
   ]
  },
  {
   "cell_type": "code",
   "execution_count": null,
   "metadata": {
    "_kg_hide-input": true,
    "execution": {
     "iopub.execute_input": "2020-09-10T13:08:59.896293Z",
     "iopub.status.busy": "2020-09-10T13:08:59.842433Z",
     "iopub.status.idle": "2020-09-10T13:08:59.955308Z",
     "shell.execute_reply": "2020-09-10T13:08:59.955792Z"
    },
    "papermill": {
     "duration": 1.049321,
     "end_time": "2020-09-10T13:08:59.955949",
     "exception": false,
     "start_time": "2020-09-10T13:08:58.906628",
     "status": "completed"
    },
    "tags": []
   },
   "outputs": [],
   "source": [
    "plot_state(states[4])"
   ]
  }
 ],
 "metadata": {
  "kernelspec": {
   "display_name": "Python 3",
   "language": "python",
   "name": "python3"
  },
  "language_info": {
   "codemirror_mode": {
    "name": "ipython",
    "version": 3
   },
   "file_extension": ".py",
   "mimetype": "text/x-python",
   "name": "python",
   "nbconvert_exporter": "python",
   "pygments_lexer": "ipython3",
   "version": "3.7.4"
  },
  "papermill": {
   "duration": 196.443058,
   "end_time": "2020-09-10T13:09:00.982682",
   "environment_variables": {},
   "exception": null,
   "input_path": "__notebook__.ipynb",
   "output_path": "__notebook__.ipynb",
   "parameters": {},
   "start_time": "2020-09-10T13:05:44.539624",
   "version": "2.1.0"
  }
 },
 "nbformat": 4,
 "nbformat_minor": 4
}
